{
 "cells": [
  {
   "cell_type": "code",
   "execution_count": 1,
   "id": "583cd439",
   "metadata": {},
   "outputs": [],
   "source": [
    "#this program detects real (0) and fake (1) news\n",
    "#importing the libraries\n",
    "import numpy as np\n",
    "import pandas as pd\n",
    "import nltk\n",
    "from nltk.corpus import stopwords\n",
    "import string"
   ]
  },
  {
   "cell_type": "code",
   "execution_count": 2,
   "id": "61a10705",
   "metadata": {},
   "outputs": [
    {
     "data": {
      "text/html": [
       "<div>\n",
       "<style scoped>\n",
       "    .dataframe tbody tr th:only-of-type {\n",
       "        vertical-align: middle;\n",
       "    }\n",
       "\n",
       "    .dataframe tbody tr th {\n",
       "        vertical-align: top;\n",
       "    }\n",
       "\n",
       "    .dataframe thead th {\n",
       "        text-align: right;\n",
       "    }\n",
       "</style>\n",
       "<table border=\"1\" class=\"dataframe\">\n",
       "  <thead>\n",
       "    <tr style=\"text-align: right;\">\n",
       "      <th></th>\n",
       "      <th>id</th>\n",
       "      <th>title</th>\n",
       "      <th>author</th>\n",
       "      <th>text</th>\n",
       "      <th>label</th>\n",
       "    </tr>\n",
       "  </thead>\n",
       "  <tbody>\n",
       "    <tr>\n",
       "      <th>0</th>\n",
       "      <td>0</td>\n",
       "      <td>House Dem Aide: We Didn’t Even See Comey’s Let...</td>\n",
       "      <td>Darrell Lucus</td>\n",
       "      <td>House Dem Aide: We Didn’t Even See Comey’s Let...</td>\n",
       "      <td>Fake</td>\n",
       "    </tr>\n",
       "    <tr>\n",
       "      <th>1</th>\n",
       "      <td>1</td>\n",
       "      <td>FLYNN: Hillary Clinton, Big Woman on Campus - ...</td>\n",
       "      <td>Daniel J. Flynn</td>\n",
       "      <td>Ever get the feeling your life circles the rou...</td>\n",
       "      <td>Real</td>\n",
       "    </tr>\n",
       "    <tr>\n",
       "      <th>2</th>\n",
       "      <td>2</td>\n",
       "      <td>Why the Truth Might Get You Fired</td>\n",
       "      <td>Consortiumnews.com</td>\n",
       "      <td>Why the Truth Might Get You Fired October 29, ...</td>\n",
       "      <td>Fake</td>\n",
       "    </tr>\n",
       "    <tr>\n",
       "      <th>3</th>\n",
       "      <td>3</td>\n",
       "      <td>15 Civilians Killed In Single US Airstrike Hav...</td>\n",
       "      <td>Jessica Purkiss</td>\n",
       "      <td>Videos 15 Civilians Killed In Single US Airstr...</td>\n",
       "      <td>Fake</td>\n",
       "    </tr>\n",
       "    <tr>\n",
       "      <th>4</th>\n",
       "      <td>4</td>\n",
       "      <td>Iranian woman jailed for fictional unpublished...</td>\n",
       "      <td>Howard Portnoy</td>\n",
       "      <td>Print \\nAn Iranian woman has been sentenced to...</td>\n",
       "      <td>Fake</td>\n",
       "    </tr>\n",
       "  </tbody>\n",
       "</table>\n",
       "</div>"
      ],
      "text/plain": [
       "   id                                              title              author  \\\n",
       "0   0  House Dem Aide: We Didn’t Even See Comey’s Let...       Darrell Lucus   \n",
       "1   1  FLYNN: Hillary Clinton, Big Woman on Campus - ...     Daniel J. Flynn   \n",
       "2   2                  Why the Truth Might Get You Fired  Consortiumnews.com   \n",
       "3   3  15 Civilians Killed In Single US Airstrike Hav...     Jessica Purkiss   \n",
       "4   4  Iranian woman jailed for fictional unpublished...      Howard Portnoy   \n",
       "\n",
       "                                                text label  \n",
       "0  House Dem Aide: We Didn’t Even See Comey’s Let...  Fake  \n",
       "1  Ever get the feeling your life circles the rou...  Real  \n",
       "2  Why the Truth Might Get You Fired October 29, ...  Fake  \n",
       "3  Videos 15 Civilians Killed In Single US Airstr...  Fake  \n",
       "4  Print \\nAn Iranian woman has been sentenced to...  Fake  "
      ]
     },
     "execution_count": 2,
     "metadata": {},
     "output_type": "execute_result"
    }
   ],
   "source": [
    "#load the data\n",
    "#read the loaded data we will use for the training\n",
    "df=pd.read_csv('train.csv')\n",
    "conversion_dict= {0:\"Real\" , 1:\"Fake\"}\n",
    "df['label']=df['label'].replace(conversion_dict)\n",
    "df.head()"
   ]
  },
  {
   "cell_type": "code",
   "execution_count": 3,
   "id": "86fa8459",
   "metadata": {},
   "outputs": [
    {
     "data": {
      "text/plain": [
       "(20800, 5)"
      ]
     },
     "execution_count": 3,
     "metadata": {},
     "output_type": "execute_result"
    }
   ],
   "source": [
    "#viewing the shape of the data \n",
    "#the output gives us the number of rows and columns of our dataset\n",
    "df.shape"
   ]
  },
  {
   "cell_type": "code",
   "execution_count": 4,
   "id": "8920a2fc",
   "metadata": {},
   "outputs": [
    {
     "name": "stdout",
     "output_type": "stream",
     "text": [
      "the shape of our data, which is the total number of rows and columns in our file is:  (20800, 5)\n"
     ]
    },
    {
     "data": {
      "text/plain": [
       "Fake    10413\n",
       "Real    10387\n",
       "Name: label, dtype: int64"
      ]
     },
     "execution_count": 4,
     "metadata": {},
     "output_type": "execute_result"
    }
   ],
   "source": [
    "#checking the shape of our dataset after removing all the duplicates\n",
    "df.drop_duplicates(inplace=True)\n",
    "print(\"the shape of our data, which is the total number of rows and columns in our file is: \", df.shape)\n",
    "\n",
    "#getting an idea of the number of real and fake values in our dataset\n",
    "df.label.value_counts()"
   ]
  },
  {
   "cell_type": "code",
   "execution_count": 5,
   "id": "02d24a4b",
   "metadata": {},
   "outputs": [
    {
     "data": {
      "text/plain": [
       "id           0\n",
       "title      558\n",
       "author    1957\n",
       "text        39\n",
       "label        0\n",
       "dtype: int64"
      ]
     },
     "execution_count": 5,
     "metadata": {},
     "output_type": "execute_result"
    }
   ],
   "source": [
    "#Checking for the missing values in each column\n",
    "df.isnull().sum()"
   ]
  },
  {
   "cell_type": "code",
   "execution_count": 6,
   "id": "81711b98",
   "metadata": {},
   "outputs": [
    {
     "data": {
      "text/plain": [
       "(18285, 5)"
      ]
     },
     "execution_count": 6,
     "metadata": {},
     "output_type": "execute_result"
    }
   ],
   "source": [
    "#remove all the missing values from our dataset\n",
    "df.dropna(axis=0, inplace=True)\n",
    "df.shape"
   ]
  },
  {
   "cell_type": "code",
   "execution_count": 7,
   "id": "6f8385fc",
   "metadata": {},
   "outputs": [
    {
     "data": {
      "text/html": [
       "<div>\n",
       "<style scoped>\n",
       "    .dataframe tbody tr th:only-of-type {\n",
       "        vertical-align: middle;\n",
       "    }\n",
       "\n",
       "    .dataframe tbody tr th {\n",
       "        vertical-align: top;\n",
       "    }\n",
       "\n",
       "    .dataframe thead th {\n",
       "        text-align: right;\n",
       "    }\n",
       "</style>\n",
       "<table border=\"1\" class=\"dataframe\">\n",
       "  <thead>\n",
       "    <tr style=\"text-align: right;\">\n",
       "      <th></th>\n",
       "      <th>id</th>\n",
       "      <th>title</th>\n",
       "      <th>author</th>\n",
       "      <th>text</th>\n",
       "      <th>label</th>\n",
       "      <th>comb</th>\n",
       "    </tr>\n",
       "  </thead>\n",
       "  <tbody>\n",
       "    <tr>\n",
       "      <th>0</th>\n",
       "      <td>0</td>\n",
       "      <td>House Dem Aide: We Didn’t Even See Comey’s Let...</td>\n",
       "      <td>Darrell Lucus</td>\n",
       "      <td>House Dem Aide: We Didn’t Even See Comey’s Let...</td>\n",
       "      <td>Fake</td>\n",
       "      <td>Darrell Lucus House Dem Aide: We Didn’t Even S...</td>\n",
       "    </tr>\n",
       "    <tr>\n",
       "      <th>1</th>\n",
       "      <td>1</td>\n",
       "      <td>FLYNN: Hillary Clinton, Big Woman on Campus - ...</td>\n",
       "      <td>Daniel J. Flynn</td>\n",
       "      <td>Ever get the feeling your life circles the rou...</td>\n",
       "      <td>Real</td>\n",
       "      <td>Daniel J. Flynn FLYNN: Hillary Clinton, Big Wo...</td>\n",
       "    </tr>\n",
       "    <tr>\n",
       "      <th>2</th>\n",
       "      <td>2</td>\n",
       "      <td>Why the Truth Might Get You Fired</td>\n",
       "      <td>Consortiumnews.com</td>\n",
       "      <td>Why the Truth Might Get You Fired October 29, ...</td>\n",
       "      <td>Fake</td>\n",
       "      <td>Consortiumnews.com Why the Truth Might Get You...</td>\n",
       "    </tr>\n",
       "    <tr>\n",
       "      <th>3</th>\n",
       "      <td>3</td>\n",
       "      <td>15 Civilians Killed In Single US Airstrike Hav...</td>\n",
       "      <td>Jessica Purkiss</td>\n",
       "      <td>Videos 15 Civilians Killed In Single US Airstr...</td>\n",
       "      <td>Fake</td>\n",
       "      <td>Jessica Purkiss 15 Civilians Killed In Single ...</td>\n",
       "    </tr>\n",
       "    <tr>\n",
       "      <th>4</th>\n",
       "      <td>4</td>\n",
       "      <td>Iranian woman jailed for fictional unpublished...</td>\n",
       "      <td>Howard Portnoy</td>\n",
       "      <td>Print \\nAn Iranian woman has been sentenced to...</td>\n",
       "      <td>Fake</td>\n",
       "      <td>Howard Portnoy Iranian woman jailed for fictio...</td>\n",
       "    </tr>\n",
       "  </tbody>\n",
       "</table>\n",
       "</div>"
      ],
      "text/plain": [
       "   id                                              title              author  \\\n",
       "0   0  House Dem Aide: We Didn’t Even See Comey’s Let...       Darrell Lucus   \n",
       "1   1  FLYNN: Hillary Clinton, Big Woman on Campus - ...     Daniel J. Flynn   \n",
       "2   2                  Why the Truth Might Get You Fired  Consortiumnews.com   \n",
       "3   3  15 Civilians Killed In Single US Airstrike Hav...     Jessica Purkiss   \n",
       "4   4  Iranian woman jailed for fictional unpublished...      Howard Portnoy   \n",
       "\n",
       "                                                text label  \\\n",
       "0  House Dem Aide: We Didn’t Even See Comey’s Let...  Fake   \n",
       "1  Ever get the feeling your life circles the rou...  Real   \n",
       "2  Why the Truth Might Get You Fired October 29, ...  Fake   \n",
       "3  Videos 15 Civilians Killed In Single US Airstr...  Fake   \n",
       "4  Print \\nAn Iranian woman has been sentenced to...  Fake   \n",
       "\n",
       "                                                comb  \n",
       "0  Darrell Lucus House Dem Aide: We Didn’t Even S...  \n",
       "1  Daniel J. Flynn FLYNN: Hillary Clinton, Big Wo...  \n",
       "2  Consortiumnews.com Why the Truth Might Get You...  \n",
       "3  Jessica Purkiss 15 Civilians Killed In Single ...  \n",
       "4  Howard Portnoy Iranian woman jailed for fictio...  "
      ]
     },
     "execution_count": 7,
     "metadata": {},
     "output_type": "execute_result"
    }
   ],
   "source": [
    "#combine the ccolumns that are imporant for the training of he program\n",
    "df['comb']=df['author'] + ' ' +df['title']\n",
    "df.head()"
   ]
  },
  {
   "cell_type": "code",
   "execution_count": 8,
   "id": "adf4892b",
   "metadata": {},
   "outputs": [],
   "source": [
    "from sklearn.feature_extraction.text import TfidfVectorizer\n",
    "\n",
    "vect=TfidfVectorizer(stop_words='english', max_df=0.7)\n",
    "#stop words are useless words that will be needed for the data"
   ]
  },
  {
   "cell_type": "code",
   "execution_count": 9,
   "id": "1f26ded5",
   "metadata": {},
   "outputs": [],
   "source": [
    "#split the data to training and testing data \n",
    "#80% of the data is for training \n",
    "#20% of the data is for testing\n",
    "from sklearn.model_selection import train_test_split\n",
    "x=df['title']+ '' +df['author']\n",
    "x_train, x_test, y_train, y_test=train_test_split(x, df['label'], test_size=0.20, random_state=0)\n",
    "tfid_x_train = vect.fit_transform(x_train)\n",
    "tfid_x_test = vect.transform(x_test)"
   ]
  },
  {
   "cell_type": "code",
   "execution_count": 10,
   "id": "715b247e",
   "metadata": {},
   "outputs": [
    {
     "data": {
      "text/plain": [
       "(14628, 25477)"
      ]
     },
     "execution_count": 10,
     "metadata": {},
     "output_type": "execute_result"
    }
   ],
   "source": [
    "tfid_x_train.shape"
   ]
  },
  {
   "cell_type": "code",
   "execution_count": 11,
   "id": "908a2bb9",
   "metadata": {},
   "outputs": [],
   "source": [
    "#make classifiers for the training of our data\n",
    "from sklearn.linear_model import LogisticRegression\n",
    "from sklearn import svm\n",
    "import time \n",
    "#defining the classifier using logistic regression\n",
    "LR_clf=LogisticRegression(max_iter=10000)\n",
    "\n",
    "start = time.time()\n",
    "LR_clf.fit(tfid_x_train , y_train)\n",
    "stop = time.time()\n",
    "\n",
    "LR_training_time=stop-start\n",
    "#defining the classifier using the svm algorithm\n",
    "\n",
    "\n",
    "SVM_clf=svm.SVC(gamma=0.001)\n",
    "\n",
    "start2 = time.time()\n",
    "SVM_clf.fit(tfid_x_train,y_train)\n",
    "stop2 = time.time()\n",
    "\n",
    "SVM_training_time=stop2-start2"
   ]
  },
  {
   "cell_type": "code",
   "execution_count": 12,
   "id": "88c3b384",
   "metadata": {},
   "outputs": [
    {
     "name": "stdout",
     "output_type": "stream",
     "text": [
      "Predictions of the Logistic Regression model :  ['Real' 'Real' 'Fake' ... 'Real' 'Real' 'Fake']\n",
      "Predictions of the SVM model :  ['Real' 'Real' 'Real' ... 'Real' 'Real' 'Real']\n",
      "Actual values:  ['Real' 'Real' 'Fake' ... 'Real' 'Real' 'Fake']\n"
     ]
    }
   ],
   "source": [
    "#print the predictions of the classifiers \n",
    "#for the predictions here the data given to the algorithms is already known\n",
    "print(\"Predictions of the Logistic Regression model : \",LR_clf.predict(tfid_x_test))\n",
    "print(\"Predictions of the SVM model : \",SVM_clf.predict(tfid_x_test))\n",
    "\n",
    "\n",
    "print(\"Actual values: \",y_test.values)"
   ]
  },
  {
   "cell_type": "code",
   "execution_count": 13,
   "id": "aaffe82e",
   "metadata": {},
   "outputs": [
    {
     "name": "stdout",
     "output_type": "stream",
     "text": [
      "On a metric scale from 0 to 1, the accuracy of the Logistic Regression Algorithm is : 0.9710144927536232\n",
      "On a metric scale from 0 to 1, the accuracy of the SVM Algorithm is : 0.5578342904019689\n",
      "\n",
      " \n",
      "The time it took to train the Logistic Regression Algorithm is : 0.4878504276275635 seconds\n",
      "The time it took to train the SVM Algorithm is : 30.18468713760376 seconds\n",
      "\n",
      " \n"
     ]
    },
    {
     "data": {
      "image/png": "[encoded data removed]",
      "text/plain": [
       "<Figure size 432x288 with 1 Axes>"
      ]
     },
     "metadata": {
      "needs_background": "light"
     },
     "output_type": "display_data"
    },
    {
     "name": "stdout",
     "output_type": "stream",
     "text": [
      "\n",
      "\n"
     ]
    },
    {
     "data": {
      "image/png": "[encoded data removed]",
      "text/plain": [
       "<Figure size 432x288 with 1 Axes>"
      ]
     },
     "metadata": {
      "needs_background": "light"
     },
     "output_type": "display_data"
    }
   ],
   "source": [
    "from sklearn.metrics import accuracy_score\n",
    "from matplotlib import pyplot as plt\n",
    "\n",
    "#evaluate the algorithms on their accuracy, training time and classificaion time and present the results on a graph\n",
    "\n",
    "LRprediction=LR_clf.predict(tfid_x_test)\n",
    "SVMpred=SVM_clf.predict(tfid_x_test)\n",
    "LRaccuracy=accuracy_score(LRprediction, y_test)\n",
    "SVMaccuracy=accuracy_score(SVMpred, y_test)\n",
    "\n",
    "print(\"On a metric scale from 0 to 1, the accuracy of the Logistic Regression Algorithm is :\", LRaccuracy )\n",
    "print(\"On a metric scale from 0 to 1, the accuracy of the SVM Algorithm is :\", SVMaccuracy)\n",
    "\n",
    "print(\"\\n \")\n",
    "\n",
    "print(\"The time it took to train the Logistic Regression Algorithm is :\", LR_training_time, \"seconds\")\n",
    "print(\"The time it took to train the SVM Algorithm is :\", SVM_training_time, \"seconds\")\n",
    "\n",
    "print(\"\\n \")\n",
    "names = [\"Logistic Regression\",\"SVM\"]\n",
    "scores = [LRaccuracy,SVMaccuracy]\n",
    "train_times=[LR_training_time, SVM_training_time]\n",
    "\n",
    "df2=pd.DataFrame()\n",
    "df2['name']=names\n",
    "df2['accuracy']=scores\n",
    "\n",
    "df2=df2.sort_values(by=['accuracy'],ascending=False)\n",
    "\n",
    "df2.plot(kind='bar',x='name',y='accuracy')\n",
    "plt.show()\n",
    "\n",
    "print(\"\\n\")\n",
    "\n",
    "df3=pd.DataFrame()\n",
    "df3['name']=names\n",
    "df3['training time']=train_times\n",
    "df3=df3.sort_values(by=['training time'],ascending=False)\n",
    "df3.plot(kind='bar',x='name',y='training time')\n",
    "plt.show()"
   ]
  },
  {
   "cell_type": "code",
   "execution_count": 14,
   "id": "9ea3e545",
   "metadata": {},
   "outputs": [],
   "source": [
    "import pickle\n",
    "#save the Logistic Regression model on a pickle file to use in the web application later\n",
    "with open('model', 'wb') as f:\n",
    "    pickle.dump(LR_clf, f)"
   ]
  },
  {
   "cell_type": "code",
   "execution_count": 15,
   "id": "4c47ee78",
   "metadata": {},
   "outputs": [],
   "source": [
    "def fake_news_det_LR(df):\n",
    "    i=0\n",
    "    exec_time=[]\n",
    "    for data in df:\n",
    "        start3=time.time()\n",
    "        data=[data]\n",
    "        vectorized_input_data = vect.transform(data)\n",
    "        prediction = LR_clf.predict(vectorized_input_data)\n",
    "        stop3=time.time()\n",
    "        exec_time.append(stop3-start3)\n",
    "        i=i+1\n",
    "        if i>=999:\n",
    "            break\n",
    "    return exec_time\n",
    "\n",
    "def fake_news_det_SVM(df):\n",
    "    i=0\n",
    "    exec_time=[]\n",
    "    for data in df:\n",
    "        start3=time.time()\n",
    "        data=[data]\n",
    "        vectorized_input_data = vect.transform(data)\n",
    "        prediction = SVM_clf.predict(vectorized_input_data)\n",
    "        stop3=time.time()\n",
    "        exec_time.append(stop3-start3)\n",
    "        i=i+1\n",
    "        if i>=999:\n",
    "            break\n",
    "    return exec_time\n"
   ]
  },
  {
   "cell_type": "code",
   "execution_count": 16,
   "id": "b6a441e2",
   "metadata": {},
   "outputs": [
    {
     "name": "stdout",
     "output_type": "stream",
     "text": [
      "the average execution time using the Logistic Regression classifier is : 0.000837318651430361 seconds\n",
      "the average execution time using the SVM classifier is : 0.004377665581765237 seconds\n"
     ]
    }
   ],
   "source": [
    "ex_time=(fake_news_det_LR(x_test))\n",
    "ex_time2=(fake_news_det_SVM(x_test))\n",
    "total_time=0\n",
    "total_time2=0\n",
    "for i in range(len(ex_time)):\n",
    "    total_time=total_time+ex_time[i]\n",
    "    total_time2=total_time2+ex_time2[i]\n",
    "av_ex_time_LR=total_time/len(ex_time)\n",
    "av_ex_time_SVM=total_time2/len(ex_time2)\n",
    "print(\"the average execution time using the Logistic Regression classifier is :\", av_ex_time_LR , \"seconds\")\n",
    "print(\"the average execution time using the SVM classifier is :\", av_ex_time_SVM , \"seconds\")\n"
   ]
  },
  {
   "cell_type": "code",
   "execution_count": 17,
   "id": "e30443ee",
   "metadata": {},
   "outputs": [
    {
     "name": "stdout",
     "output_type": "stream",
     "text": [
      "\n",
      "\n"
     ]
    },
    {
     "data": {
      "image/png": "[encoded data removed]",
      "text/plain": [
       "<Figure size 432x288 with 1 Axes>"
      ]
     },
     "metadata": {
      "needs_background": "light"
     },
     "output_type": "display_data"
    }
   ],
   "source": [
    "print(\"\\n\")\n",
    "\n",
    "ex_times=[av_ex_time_LR, av_ex_time_SVM]\n",
    "\n",
    "df4=pd.DataFrame()\n",
    "df4['name']=names\n",
    "df4['execution time']=ex_times\n",
    "df4=df4.sort_values(by=['execution time'],ascending=True)\n",
    "df4.plot(kind='bar',x='name',y='execution time')\n",
    "plt.show()"
   ]
  }
 ],
 "metadata": {
  "kernelspec": {
   "display_name": "Python 3 (ipykernel)",
   "language": "python",
   "name": "python3"
  },
  "language_info": {
   "codemirror_mode": {
    "name": "ipython",
    "version": 3
   },
   "file_extension": ".py",
   "mimetype": "text/x-python",
   "name": "python",
   "nbconvert_exporter": "python",
   "pygments_lexer": "ipython3",
   "version": "3.10.1"
  }
 },
 "nbformat": 4,
 "nbformat_minor": 5
}
